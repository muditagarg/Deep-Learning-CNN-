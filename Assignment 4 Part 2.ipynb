{
 "cells": [
  {
   "cell_type": "markdown",
   "metadata": {},
   "source": [
    "### Student Name: Mudita Garg\n",
    "### Course: ADTA 5550\n",
    "### Assignment 4\n",
    "### Part II: Redesign Convolutional Neural Network (30 Points)"
   ]
  },
  {
   "cell_type": "code",
   "execution_count": 1,
   "metadata": {
    "colab": {
     "base_uri": "https://localhost:8080/"
    },
    "id": "pfenOhshZnRP",
    "outputId": "1530036d-5414-4850-cc59-1b9b9b7dc0f7"
   },
   "outputs": [
    {
     "name": "stdout",
     "output_type": "stream",
     "text": [
      "1.15.5\n"
     ]
    }
   ],
   "source": [
    "import warnings\n",
    "warnings.filterwarnings(\"ignore\")\n",
    "#%tensorflow_version 1.x\n",
    "import tensorflow as tf\n",
    "\n",
    "print(tf.__version__)"
   ]
  },
  {
   "cell_type": "code",
   "execution_count": 2,
   "metadata": {
    "id": "LSPQDWV4ZzBe"
   },
   "outputs": [],
   "source": [
    "#Importing the libraries required\n",
    "import numpy as np\n",
    "import matplotlib.pyplot as plt\n",
    "import tensorflow as tf\n",
    "from tensorflow.examples.tutorials.mnist import input_data"
   ]
  },
  {
   "cell_type": "markdown",
   "metadata": {
    "id": "DkGWwFIJZ2mu"
   },
   "source": [
    "### Loading the data with one hot encoding"
   ]
  },
  {
   "cell_type": "code",
   "execution_count": 3,
   "metadata": {
    "colab": {
     "base_uri": "https://localhost:8080/"
    },
    "id": "pmE_2oBsZ_kF",
    "outputId": "b975ee9c-939f-4cdb-ce21-acc59be30dd7"
   },
   "outputs": [
    {
     "name": "stdout",
     "output_type": "stream",
     "text": [
      "WARNING:tensorflow:From /tmp/ipykernel_2574/1309294512.py:2: read_data_sets (from tensorflow.contrib.learn.python.learn.datasets.mnist) is deprecated and will be removed in a future version.\n",
      "Instructions for updating:\n",
      "Please use alternatives such as official/mnist/dataset.py from tensorflow/models.\n",
      "WARNING:tensorflow:From /opt/conda/lib/python3.7/site-packages/tensorflow_core/contrib/learn/python/learn/datasets/mnist.py:260: maybe_download (from tensorflow.contrib.learn.python.learn.datasets.base) is deprecated and will be removed in a future version.\n",
      "Instructions for updating:\n",
      "Please write your own downloading logic.\n",
      "WARNING:tensorflow:From /opt/conda/lib/python3.7/site-packages/tensorflow_core/contrib/learn/python/learn/datasets/mnist.py:262: extract_images (from tensorflow.contrib.learn.python.learn.datasets.mnist) is deprecated and will be removed in a future version.\n",
      "Instructions for updating:\n",
      "Please use tf.data to implement this functionality.\n",
      "Extracting MNIST_data/train-images-idx3-ubyte.gz\n",
      "WARNING:tensorflow:From /opt/conda/lib/python3.7/site-packages/tensorflow_core/contrib/learn/python/learn/datasets/mnist.py:267: extract_labels (from tensorflow.contrib.learn.python.learn.datasets.mnist) is deprecated and will be removed in a future version.\n",
      "Instructions for updating:\n",
      "Please use tf.data to implement this functionality.\n",
      "Extracting MNIST_data/train-labels-idx1-ubyte.gz\n",
      "WARNING:tensorflow:From /opt/conda/lib/python3.7/site-packages/tensorflow_core/contrib/learn/python/learn/datasets/mnist.py:110: dense_to_one_hot (from tensorflow.contrib.learn.python.learn.datasets.mnist) is deprecated and will be removed in a future version.\n",
      "Instructions for updating:\n",
      "Please use tf.one_hot on tensors.\n",
      "Extracting MNIST_data/t10k-images-idx3-ubyte.gz\n",
      "Extracting MNIST_data/t10k-labels-idx1-ubyte.gz\n",
      "WARNING:tensorflow:From /opt/conda/lib/python3.7/site-packages/tensorflow_core/contrib/learn/python/learn/datasets/mnist.py:290: DataSet.__init__ (from tensorflow.contrib.learn.python.learn.datasets.mnist) is deprecated and will be removed in a future version.\n",
      "Instructions for updating:\n",
      "Please use alternatives such as official/mnist/dataset.py from tensorflow/models.\n"
     ]
    }
   ],
   "source": [
    "# One-hot encoding is true it means we have loaded the data with one-hot encoding\n",
    "mnist = input_data.read_data_sets(\"MNIST_data/\", one_hot=True)"
   ]
  },
  {
   "cell_type": "code",
   "execution_count": 4,
   "metadata": {
    "colab": {
     "base_uri": "https://localhost:8080/"
    },
    "id": "uvp96rl6aBMx",
    "outputId": "bf137770-f1a3-44f8-f733-4752facb307d"
   },
   "outputs": [
    {
     "name": "stdout",
     "output_type": "stream",
     "text": [
      "Number of training examples: 55000\n",
      "Number of testing examples: 10000\n"
     ]
    }
   ],
   "source": [
    "print(\"Number of training examples:\", mnist.train.num_examples)\n",
    "print(\"Number of testing examples:\", mnist.test.num_examples)"
   ]
  },
  {
   "cell_type": "code",
   "execution_count": 5,
   "metadata": {
    "colab": {
     "base_uri": "https://localhost:8080/"
    },
    "id": "5RXG0RCvaD2T",
    "outputId": "988b0357-e76f-480b-8b36-8556700d18be"
   },
   "outputs": [
    {
     "name": "stdout",
     "output_type": "stream",
     "text": [
      "(55000, 784) (55000, 10)\n",
      "(5000, 784) (5000, 10)\n",
      "(10000, 784) (10000, 10)\n"
     ]
    }
   ],
   "source": [
    "print(mnist.train.images.shape, mnist.train.labels.shape)\n",
    "print(mnist.validation.images.shape, mnist.validation.labels.shape)\n",
    "print(mnist.test.images.shape, mnist.test.labels.shape)"
   ]
  },
  {
   "cell_type": "code",
   "execution_count": 6,
   "metadata": {
    "id": "akU3F3RjaH30"
   },
   "outputs": [],
   "source": [
    "#Each image is 28 x 28 pixels, which we can interpret as a big array of numbers. We will flatten this array into a vector of 28x28=784 numbers (this does throw away the 2D structure of the image)."
   ]
  },
  {
   "cell_type": "markdown",
   "metadata": {},
   "source": [
    "### Visualizing the data, by displaying example of images using matplotlib"
   ]
  },
  {
   "cell_type": "code",
   "execution_count": 7,
   "metadata": {},
   "outputs": [
    {
     "data": {
      "image/png": "[encoded data removed]",
      "text/plain": [
       "<Figure size 720x720 with 6 Axes>"
      ]
     },
     "metadata": {
      "needs_background": "light"
     },
     "output_type": "display_data"
    }
   ],
   "source": [
    "#Having a look at the images of test set\n",
    "left= 2.5\n",
    "top = 2.5\n",
    "\n",
    "fig = plt.figure(figsize=(10,10))\n",
    "\n",
    "for i in range(6):\n",
    "    ax = fig.add_subplot(3,2,i+1)\n",
    "    im = np.reshape(mnist.train.images[i,:], [28,28])\n",
    "\n",
    "    label = np.argmax(mnist.train.labels[i,:])\n",
    "    ax.imshow(im, cmap='Greys')\n",
    "    ax.text(left, top, str(label))"
   ]
  },
  {
   "cell_type": "markdown",
   "metadata": {
    "id": "nIVs7eaeaKyT"
   },
   "source": [
    "### Initialise Weights in Filters"
   ]
  },
  {
   "cell_type": "code",
   "execution_count": 8,
   "metadata": {
    "id": "yUMYOeyFbi0_"
   },
   "outputs": [],
   "source": [
    "def initialise_weights(filter_shape):\n",
    "  init_random_dist = tf.truncated_normal (filter_shape, stddev=0.1)\n",
    "  return( tf.Variable(init_random_dist))"
   ]
  },
  {
   "cell_type": "markdown",
   "metadata": {
    "id": "5SgLUEfgb5v6"
   },
   "source": [
    "### Initialise Bias"
   ]
  },
  {
   "cell_type": "code",
   "execution_count": 9,
   "metadata": {
    "id": "1DajwQDJb_Y0"
   },
   "outputs": [],
   "source": [
    "def initialise_bias(bias_shape):\n",
    "  initial_bias_vals = tf.constant (0.1,shape=bias_shape)\n",
    "  return( tf.Variable(initial_bias_vals))"
   ]
  },
  {
   "cell_type": "markdown",
   "metadata": {
    "id": "TPUznqRWcb8y"
   },
   "source": [
    "### Set up Convolution Layer and perform computation"
   ]
  },
  {
   "cell_type": "code",
   "execution_count": 10,
   "metadata": {
    "id": "t9VUZ4EgckHp"
   },
   "outputs": [],
   "source": [
    "def convolution_layer_and_compute(inputs,filter_shape):\n",
    "  #Initialise the weights in the filter\n",
    "  filter_initialised_with_weights= initialise_weights(filter_shape)\n",
    "  #create a convolution layer\n",
    "  conv_layer_outputs = tf.nn.conv2d(inputs, filter_initialised_with_weights,  strides = [1,1,1,1], padding = 'SAME')\n",
    "  #return the convolution layer outputs\n",
    "  return (conv_layer_outputs)"
   ]
  },
  {
   "cell_type": "markdown",
   "metadata": {
    "id": "rK_qLSGFd67t"
   },
   "source": [
    "### Set up a ReLu Layer and Perform Computaion "
   ]
  },
  {
   "cell_type": "code",
   "execution_count": 11,
   "metadata": {
    "id": "8uB_4qnLd_3R"
   },
   "outputs": [],
   "source": [
    "def create_relu_layer_and_compute(inputs,filter_shape):\n",
    "  #initialise bias for each input channel\n",
    "  b= initialise_bias ([filter_shape[3]])\n",
    "  #perform the computation first by adding: inputs (x*W)+b\n",
    "  # create a ReLu layer associated with the preeceding convolution layer\n",
    "  relu_layer_outputs = tf.nn.relu(inputs + b)\n",
    "  #return the outputs of the ReLu layer\n",
    "  return(relu_layer_outputs)"
   ]
  },
  {
   "cell_type": "markdown",
   "metadata": {
    "id": "6QUoEVAKfaA1"
   },
   "source": [
    "### set up a pooling layer and resuce spatial size"
   ]
  },
  {
   "cell_type": "code",
   "execution_count": 12,
   "metadata": {
    "id": "hvLusq0Ae1yI"
   },
   "outputs": [],
   "source": [
    "def creeate_maxpoolby2_and_Reduce_spatial_size(inputs):\n",
    "  #create a pooling layer\n",
    "  pooling_layer_outputs = tf.nn.max_pool(inputs , ksize=[1,2,2,1], strides = [1,2,2,1], padding='SAME')\n",
    "  #return the pooling layer\n",
    "  return(pooling_layer_outputs)"
   ]
  },
  {
   "cell_type": "markdown",
   "metadata": {
    "id": "3PB5ojumfYcX"
   },
   "source": [
    "### Set up fully connected layer and perform computation"
   ]
  },
  {
   "cell_type": "code",
   "execution_count": 13,
   "metadata": {
    "id": "R9NoFCmAfjBb"
   },
   "outputs": [],
   "source": [
    "def create_fully_connected_layer_and_compute(inputs, output_size):\n",
    "  #get number of inputs channels from the input\n",
    "  input_size = int(inputs.get_shape()[1])\n",
    "  #initialise the weights of the filter of the FC layer\n",
    "  W = initialise_weights([input_size,output_size])\n",
    "  #initialise the bias: each bias one output channel\n",
    "  b = initialise_bias([output_size])\n",
    "  fc_xW_plus_bias_outputs = tf.matmul(inputs,W) + b\n",
    "  return(fc_xW_plus_bias_outputs)"
   ]
  },
  {
   "cell_type": "markdown",
   "metadata": {
    "id": "blLbbLkUhUwM"
   },
   "source": [
    "### Phase 1: Build the CNN"
   ]
  },
  {
   "cell_type": "markdown",
   "metadata": {
    "id": "W4FD7kvNhWE0"
   },
   "source": [
    "### Create placeholders for inputs and labels:"
   ]
  },
  {
   "cell_type": "code",
   "execution_count": 14,
   "metadata": {
    "id": "so_mxW3_g4yB"
   },
   "outputs": [
    {
     "name": "stdout",
     "output_type": "stream",
     "text": [
      "WARNING:tensorflow:From /tmp/ipykernel_2574/1754099893.py:1: The name tf.placeholder is deprecated. Please use tf.compat.v1.placeholder instead.\n",
      "\n"
     ]
    }
   ],
   "source": [
    "x = tf.placeholder(tf.float32, shape=[None,784])"
   ]
  },
  {
   "cell_type": "code",
   "execution_count": 15,
   "metadata": {
    "id": "yFT-5KZ5hkmf"
   },
   "outputs": [],
   "source": [
    "y_true = tf.placeholder(tf.float32, [None, 10])"
   ]
  },
  {
   "cell_type": "markdown",
   "metadata": {
    "id": "dbU9Dbnchu3R"
   },
   "source": [
    "### Reshape the Input Placeholder"
   ]
  },
  {
   "cell_type": "code",
   "execution_count": 16,
   "metadata": {
    "id": "sS1q8Lfsht2r"
   },
   "outputs": [],
   "source": [
    "x_image = tf.reshape(x,[-1,28,28,1])"
   ]
  },
  {
   "cell_type": "markdown",
   "metadata": {
    "id": "_irwHwUziPyC"
   },
   "source": [
    "### Create 1st Convolution Layer ,ReLu Layer and Perform Computation"
   ]
  },
  {
   "cell_type": "code",
   "execution_count": 17,
   "metadata": {
    "id": "nohXJVbYiXjs"
   },
   "outputs": [
    {
     "name": "stdout",
     "output_type": "stream",
     "text": [
      "WARNING:tensorflow:From /tmp/ipykernel_2574/1572694437.py:2: The name tf.truncated_normal is deprecated. Please use tf.random.truncated_normal instead.\n",
      "\n"
     ]
    }
   ],
   "source": [
    "conv_layer_1_outputs \\\n",
    "  = convolution_layer_and_compute(x_image, filter_shape=[5,5,1,32])"
   ]
  },
  {
   "cell_type": "code",
   "execution_count": 18,
   "metadata": {
    "id": "UO_BqaKBi56J"
   },
   "outputs": [],
   "source": [
    "conv_layer_1_outputs \\\n",
    "  = create_relu_layer_and_compute(conv_layer_1_outputs, filter_shape=[5,5,1,32])"
   ]
  },
  {
   "cell_type": "markdown",
   "metadata": {
    "id": "vHv8DZJgjWX8"
   },
   "source": [
    "### create 1st pooling layer and reduce spatial size"
   ]
  },
  {
   "cell_type": "code",
   "execution_count": 19,
   "metadata": {
    "id": "AuKMBbVMjG8Q"
   },
   "outputs": [
    {
     "name": "stdout",
     "output_type": "stream",
     "text": [
      "WARNING:tensorflow:From /tmp/ipykernel_2574/4066661148.py:3: The name tf.nn.max_pool is deprecated. Please use tf.nn.max_pool2d instead.\n",
      "\n"
     ]
    }
   ],
   "source": [
    "pooling_layer_1_outputs = creeate_maxpoolby2_and_Reduce_spatial_size(conv_layer_1_outputs)"
   ]
  },
  {
   "cell_type": "markdown",
   "metadata": {
    "id": "3K4FEHAAlThZ"
   },
   "source": [
    "### Create 2nd Convolution Layer ,ReLu Layer and Perform Computation"
   ]
  },
  {
   "cell_type": "code",
   "execution_count": 20,
   "metadata": {
    "id": "L52oxWX-lR2Z"
   },
   "outputs": [],
   "source": [
    "# conv_layer_2_outputs \\\n",
    "#   = convolution_layer_and_compute(pooling_layer_1_outputs, filter_shape=[5,5,32,64])"
   ]
  },
  {
   "cell_type": "code",
   "execution_count": 21,
   "metadata": {
    "id": "SZF5U8Dulsww"
   },
   "outputs": [],
   "source": [
    "# conv_relu_layer_2_outputs \\\n",
    "#   = create_relu_layer_and_compute(conv_layer_2_outputs,filter_shape=[5,5,32,64])"
   ]
  },
  {
   "cell_type": "markdown",
   "metadata": {
    "id": "ZXIgmXKxmD-M"
   },
   "source": [
    "### Create 2nd Pooling Layer and Reduce Spatial Size"
   ]
  },
  {
   "cell_type": "code",
   "execution_count": 22,
   "metadata": {
    "id": "kDSlbrIRmMds"
   },
   "outputs": [],
   "source": [
    "# pooling_layer_2_outputs = creeate_maxpoolby2_and_Reduce_spatial_size(conv_relu_layer_2_outputs)"
   ]
  },
  {
   "cell_type": "markdown",
   "metadata": {
    "id": "D23REeo0mbpA"
   },
   "source": [
    "### Reshaping data making it ready to be fed into 1st FC Layer"
   ]
  },
  {
   "cell_type": "code",
   "execution_count": 23,
   "metadata": {
    "id": "acB_qTrOkeDh"
   },
   "outputs": [],
   "source": [
    "pooling_layer_1_outputs_flat = tf.reshape(pooling_layer_1_outputs, [-1,14*14*32])"
   ]
  },
  {
   "cell_type": "markdown",
   "metadata": {
    "id": "1_bfERoNmpNx"
   },
   "source": [
    "### Create 1st FC Layer , ReLu Layer and output data "
   ]
  },
  {
   "cell_type": "code",
   "execution_count": 24,
   "metadata": {
    "id": "8q5qLvCqm-FL"
   },
   "outputs": [],
   "source": [
    "fc_layer_1_outputs \\\n",
    "  = create_fully_connected_layer_and_compute(pooling_layer_1_outputs_flat, output_size=1024)"
   ]
  },
  {
   "cell_type": "code",
   "execution_count": 25,
   "metadata": {
    "id": "OvjjOi8QmnG5"
   },
   "outputs": [],
   "source": [
    "fc_relu_layer_1_outputs = tf.nn.relu(fc_layer_1_outputs)"
   ]
  },
  {
   "cell_type": "markdown",
   "metadata": {
    "id": "vEHDgEQ9oTn8"
   },
   "source": [
    "### Create dropout layers "
   ]
  },
  {
   "cell_type": "code",
   "execution_count": 26,
   "metadata": {
    "id": "kqsyFtJEoYEB"
   },
   "outputs": [],
   "source": [
    "hold_prob = tf.placeholder(tf.float32)"
   ]
  },
  {
   "cell_type": "code",
   "execution_count": 27,
   "metadata": {
    "colab": {
     "base_uri": "https://localhost:8080/"
    },
    "id": "FbgSpWZnomC2",
    "outputId": "84e2f410-12ba-4f97-c9ac-691699e56e96"
   },
   "outputs": [
    {
     "name": "stdout",
     "output_type": "stream",
     "text": [
      "WARNING:tensorflow:From /tmp/ipykernel_2574/1650091488.py:1: calling dropout (from tensorflow.python.ops.nn_ops) with keep_prob is deprecated and will be removed in a future version.\n",
      "Instructions for updating:\n",
      "Please use `rate` instead of `keep_prob`. Rate should be set to `rate = 1 - keep_prob`.\n"
     ]
    }
   ],
   "source": [
    "fc_dropout_outputs = tf.nn.dropout(fc_relu_layer_1_outputs, keep_prob= hold_prob)"
   ]
  },
  {
   "cell_type": "markdown",
   "metadata": {
    "id": "dV1LfePipCVJ"
   },
   "source": [
    "### Create Final FC Layer"
   ]
  },
  {
   "cell_type": "code",
   "execution_count": 28,
   "metadata": {
    "id": "AzOt4eY3oziq"
   },
   "outputs": [],
   "source": [
    "y_pred = create_fully_connected_layer_and_compute(fc_dropout_outputs, output_size=10)"
   ]
  },
  {
   "cell_type": "markdown",
   "metadata": {
    "id": "-r5O-Gj2pExC"
   },
   "source": [
    "### Define Loss function"
   ]
  },
  {
   "cell_type": "code",
   "execution_count": 29,
   "metadata": {
    "colab": {
     "base_uri": "https://localhost:8080/"
    },
    "id": "ws4DzN0_wlpx",
    "outputId": "85a2afb4-74ff-4a3d-f31b-9b823d9f4b2b"
   },
   "outputs": [
    {
     "name": "stdout",
     "output_type": "stream",
     "text": [
      "WARNING:tensorflow:From /tmp/ipykernel_2574/3957134970.py:1: softmax_cross_entropy_with_logits (from tensorflow.python.ops.nn_ops) is deprecated and will be removed in a future version.\n",
      "Instructions for updating:\n",
      "\n",
      "Future major versions of TensorFlow will allow gradients to flow\n",
      "into the labels input on backprop by default.\n",
      "\n",
      "See `tf.nn.softmax_cross_entropy_with_logits_v2`.\n",
      "\n"
     ]
    }
   ],
   "source": [
    "cross_entropy = tf.reduce_mean(tf.nn.softmax_cross_entropy_with_logits(logits= y_pred, labels=y_true))"
   ]
  },
  {
   "cell_type": "markdown",
   "metadata": {
    "id": "zhNKrqq6prhi"
   },
   "source": [
    "### Create an Optimizer"
   ]
  },
  {
   "cell_type": "code",
   "execution_count": 30,
   "metadata": {
    "id": "n-dwTUTMtsog"
   },
   "outputs": [
    {
     "name": "stdout",
     "output_type": "stream",
     "text": [
      "WARNING:tensorflow:From /tmp/ipykernel_2574/734885860.py:1: The name tf.train.AdamOptimizer is deprecated. Please use tf.compat.v1.train.AdamOptimizer instead.\n",
      "\n"
     ]
    }
   ],
   "source": [
    "optimiser = tf.train.AdamOptimizer(learning_rate=0.001).minimize(cross_entropy)"
   ]
  },
  {
   "cell_type": "markdown",
   "metadata": {
    "id": "g5lnZgaip3sM"
   },
   "source": [
    "### Create a training CNN Model"
   ]
  },
  {
   "cell_type": "markdown",
   "metadata": {
    "id": "FU1IkhAFqCYW"
   },
   "source": [
    "### Train and Test CNN "
   ]
  },
  {
   "cell_type": "code",
   "execution_count": 31,
   "metadata": {
    "id": "zNDmxKtvqBey"
   },
   "outputs": [
    {
     "name": "stdout",
     "output_type": "stream",
     "text": [
      "WARNING:tensorflow:From /tmp/ipykernel_2574/1077392857.py:1: The name tf.global_variables_initializer is deprecated. Please use tf.compat.v1.global_variables_initializer instead.\n",
      "\n"
     ]
    }
   ],
   "source": [
    "init = tf.global_variables_initializer()"
   ]
  },
  {
   "cell_type": "code",
   "execution_count": 32,
   "metadata": {
    "id": "mys0oCvXqfTa"
   },
   "outputs": [],
   "source": [
    "steps = 5000"
   ]
  },
  {
   "cell_type": "code",
   "execution_count": 33,
   "metadata": {
    "colab": {
     "base_uri": "https://localhost:8080/"
    },
    "id": "hm7D3i2lqh1p",
    "outputId": "a9cf30d0-b454-479d-fe8c-56429935d414"
   },
   "outputs": [
    {
     "name": "stdout",
     "output_type": "stream",
     "text": [
      "WARNING:tensorflow:From /tmp/ipykernel_2574/537534899.py:1: The name tf.Session is deprecated. Please use tf.compat.v1.Session instead.\n",
      "\n"
     ]
    },
    {
     "name": "stderr",
     "output_type": "stream",
     "text": [
      "\n",
      "User settings:\n",
      "\n",
      "   KMP_AFFINITY=granularity=fine,verbose,compact,1,0\n",
      "   KMP_BLOCKTIME=0\n",
      "   KMP_DUPLICATE_LIB_OK=True\n",
      "   KMP_INIT_AT_FORK=FALSE\n",
      "   KMP_SETTINGS=1\n",
      "   OMP_NUM_THREADS=8\n",
      "\n",
      "Effective settings:\n",
      "\n",
      "   KMP_ABORT_DELAY=0\n",
      "   KMP_ADAPTIVE_LOCK_PROPS='1,1024'\n",
      "   KMP_ALIGN_ALLOC=64\n",
      "   KMP_ALL_THREADPRIVATE=128\n",
      "   KMP_ATOMIC_MODE=2\n",
      "   KMP_BLOCKTIME=0\n",
      "   KMP_CPUINFO_FILE: value is not defined\n",
      "   KMP_DETERMINISTIC_REDUCTION=false\n",
      "   KMP_DEVICE_THREAD_LIMIT=2147483647\n",
      "   KMP_DISP_HAND_THREAD=false\n",
      "   KMP_DISP_NUM_BUFFERS=7\n",
      "   KMP_DUPLICATE_LIB_OK=true\n",
      "   KMP_FORCE_REDUCTION: value is not defined\n",
      "   KMP_FOREIGN_THREADS_THREADPRIVATE=true\n",
      "   KMP_FORKJOIN_BARRIER='2,2'\n",
      "   KMP_FORKJOIN_BARRIER_PATTERN='hyper,hyper'\n",
      "   KMP_FORKJOIN_FRAMES=true\n",
      "   KMP_FORKJOIN_FRAMES_MODE=3\n",
      "   KMP_GTID_MODE=3\n",
      "   KMP_HANDLE_SIGNALS=false\n",
      "   KMP_HOT_TEAMS_MAX_LEVEL=1\n",
      "   KMP_HOT_TEAMS_MODE=0\n",
      "   KMP_INIT_AT_FORK=true\n",
      "   KMP_ITT_PREPARE_DELAY=0\n",
      "   KMP_LIBRARY=throughput\n",
      "   KMP_LOCK_KIND=queuing\n",
      "   KMP_MALLOC_POOL_INCR=1M\n",
      "   KMP_MWAIT_HINTS=0\n",
      "   KMP_NUM_LOCKS_IN_BLOCK=1\n",
      "   KMP_PLAIN_BARRIER='2,2'\n",
      "   KMP_PLAIN_BARRIER_PATTERN='hyper,hyper'\n",
      "   KMP_REDUCTION_BARRIER='1,1'\n",
      "   KMP_REDUCTION_BARRIER_PATTERN='hyper,hyper'\n",
      "   KMP_SCHEDULE='static,balanced;guided,iterative'\n",
      "   KMP_SETTINGS=true\n",
      "   KMP_SPIN_BACKOFF_PARAMS='4096,100'\n",
      "   KMP_STACKOFFSET=64\n",
      "   KMP_STACKPAD=0\n",
      "   KMP_STACKSIZE=8M\n",
      "   KMP_STORAGE_MAP=false\n",
      "   KMP_TASKING=2\n",
      "   KMP_TASKLOOP_MIN_TASKS=0\n",
      "   KMP_TASK_STEALING_CONSTRAINT=1\n",
      "   KMP_TEAMS_THREAD_LIMIT=8\n",
      "   KMP_TOPOLOGY_METHOD=all\n",
      "   KMP_USER_LEVEL_MWAIT=false\n",
      "   KMP_USE_YIELD=1\n",
      "   KMP_VERSION=false\n",
      "   KMP_WARNINGS=true\n",
      "   OMP_AFFINITY_FORMAT='OMP: pid %P tid %i thread %n bound to OS proc set {%A}'\n",
      "   OMP_ALLOCATOR=omp_default_mem_alloc\n",
      "   OMP_CANCELLATION=false\n",
      "   OMP_DEBUG=disabled\n",
      "   OMP_DEFAULT_DEVICE=0\n",
      "   OMP_DISPLAY_AFFINITY=false\n",
      "   OMP_DISPLAY_ENV=false\n",
      "   OMP_DYNAMIC=false\n",
      "   OMP_MAX_ACTIVE_LEVELS=2147483647\n",
      "   OMP_MAX_TASK_PRIORITY=0\n",
      "   OMP_NESTED=false\n",
      "   OMP_NUM_THREADS='8'\n",
      "   OMP_PLACES: value is not defined\n",
      "   OMP_PROC_BIND='intel'\n",
      "   OMP_SCHEDULE='static'\n",
      "   OMP_STACKSIZE=8M\n",
      "   OMP_TARGET_OFFLOAD=DEFAULT\n",
      "   OMP_THREAD_LIMIT=2147483647\n",
      "   OMP_TOOL=enabled\n",
      "   OMP_TOOL_LIBRARIES: value is not defined\n",
      "   OMP_WAIT_POLICY=PASSIVE\n",
      "   KMP_AFFINITY='verbose,warnings,respect,granularity=fine,compact,1,0'\n",
      "\n",
      "2021-12-04 18:36:16.317791: I tensorflow/core/platform/profile_utils/cpu_utils.cc:94] CPU Frequency: 2299995000 Hz\n",
      "2021-12-04 18:36:16.318394: I tensorflow/compiler/xla/service/service.cc:168] XLA service 0x564aca5068e0 initialized for platform Host (this does not guarantee that XLA will be used). Devices:\n",
      "2021-12-04 18:36:16.318449: I tensorflow/compiler/xla/service/service.cc:176]   StreamExecutor device (0): Host, Default Version\n",
      "2021-12-04 18:36:16.318578: I tensorflow/core/common_runtime/process_util.cc:136] Creating new thread pool with default inter op setting: 2. Tune using inter_op_parallelism_threads for best performance.\n",
      "OMP: Info #212: KMP_AFFINITY: decoding x2APIC ids.\n",
      "OMP: Info #210: KMP_AFFINITY: Affinity capable, using global cpuid leaf 11 info\n",
      "OMP: Info #154: KMP_AFFINITY: Initial OS proc set respected: 0-7\n",
      "OMP: Info #156: KMP_AFFINITY: 8 available OS procs\n",
      "OMP: Info #157: KMP_AFFINITY: Uniform topology\n",
      "OMP: Info #179: KMP_AFFINITY: 1 packages x 4 cores/pkg x 2 threads/core (4 total cores)\n",
      "OMP: Info #214: KMP_AFFINITY: OS proc to physical thread map:\n",
      "OMP: Info #171: KMP_AFFINITY: OS proc 0 maps to package 0 core 0 thread 0 \n",
      "OMP: Info #171: KMP_AFFINITY: OS proc 4 maps to package 0 core 0 thread 1 \n",
      "OMP: Info #171: KMP_AFFINITY: OS proc 1 maps to package 0 core 1 thread 0 \n",
      "OMP: Info #171: KMP_AFFINITY: OS proc 5 maps to package 0 core 1 thread 1 \n",
      "OMP: Info #171: KMP_AFFINITY: OS proc 2 maps to package 0 core 2 thread 0 \n",
      "OMP: Info #171: KMP_AFFINITY: OS proc 6 maps to package 0 core 2 thread 1 \n",
      "OMP: Info #171: KMP_AFFINITY: OS proc 3 maps to package 0 core 3 thread 0 \n",
      "OMP: Info #171: KMP_AFFINITY: OS proc 7 maps to package 0 core 3 thread 1 \n",
      "OMP: Info #250: KMP_AFFINITY: pid 2574 tid 2619 thread 0 bound to OS proc set 0\n",
      "OMP: Info #250: KMP_AFFINITY: pid 2574 tid 2619 thread 1 bound to OS proc set 1\n",
      "OMP: Info #250: KMP_AFFINITY: pid 2574 tid 2621 thread 2 bound to OS proc set 2\n",
      "OMP: Info #250: KMP_AFFINITY: pid 2574 tid 2622 thread 3 bound to OS proc set 3\n",
      "OMP: Info #250: KMP_AFFINITY: pid 2574 tid 2623 thread 4 bound to OS proc set 4\n",
      "OMP: Info #250: KMP_AFFINITY: pid 2574 tid 2624 thread 5 bound to OS proc set 5\n",
      "OMP: Info #250: KMP_AFFINITY: pid 2574 tid 2625 thread 6 bound to OS proc set 6\n",
      "OMP: Info #250: KMP_AFFINITY: pid 2574 tid 2626 thread 7 bound to OS proc set 7\n",
      "OMP: Info #250: KMP_AFFINITY: pid 2574 tid 2627 thread 8 bound to OS proc set 0\n",
      "OMP: Info #250: KMP_AFFINITY: pid 2574 tid 2618 thread 9 bound to OS proc set 1\n",
      "OMP: Info #250: KMP_AFFINITY: pid 2574 tid 2629 thread 11 bound to OS proc set 3\n",
      "OMP: Info #250: KMP_AFFINITY: pid 2574 tid 2630 thread 12 bound to OS proc set 4\n",
      "OMP: Info #250: KMP_AFFINITY: pid 2574 tid 2631 thread 13 bound to OS proc set 5\n",
      "OMP: Info #250: KMP_AFFINITY: pid 2574 tid 2632 thread 14 bound to OS proc set 6\n",
      "OMP: Info #250: KMP_AFFINITY: pid 2574 tid 2634 thread 16 bound to OS proc set 0\n",
      "OMP: Info #250: KMP_AFFINITY: pid 2574 tid 2633 thread 15 bound to OS proc set 7\n",
      "OMP: Info #250: KMP_AFFINITY: pid 2574 tid 2628 thread 10 bound to OS proc set 2\n"
     ]
    },
    {
     "name": "stdout",
     "output_type": "stream",
     "text": [
      "ON STEP: 0\n",
      "ACCURACY:\n",
      "0.0892\n",
      "\n",
      "\n",
      "ON STEP: 100\n",
      "ACCURACY:\n",
      "0.8933\n",
      "\n",
      "\n",
      "ON STEP: 200\n",
      "ACCURACY:\n",
      "0.9278\n",
      "\n",
      "\n",
      "ON STEP: 300\n",
      "ACCURACY:\n",
      "0.9452\n",
      "\n",
      "\n",
      "ON STEP: 400\n",
      "ACCURACY:\n",
      "0.9585\n",
      "\n",
      "\n",
      "ON STEP: 500\n",
      "ACCURACY:\n",
      "0.9644\n",
      "\n",
      "\n",
      "ON STEP: 600\n",
      "ACCURACY:\n",
      "0.9719\n",
      "\n",
      "\n",
      "ON STEP: 700\n",
      "ACCURACY:\n",
      "0.9754\n",
      "\n",
      "\n",
      "ON STEP: 800\n",
      "ACCURACY:\n",
      "0.9768\n",
      "\n",
      "\n",
      "ON STEP: 900\n",
      "ACCURACY:\n",
      "0.9788\n",
      "\n",
      "\n",
      "ON STEP: 1000\n",
      "ACCURACY:\n",
      "0.9787\n",
      "\n",
      "\n",
      "ON STEP: 1100\n",
      "ACCURACY:\n",
      "0.9764\n",
      "\n",
      "\n",
      "ON STEP: 1200\n",
      "ACCURACY:\n",
      "0.979\n",
      "\n",
      "\n",
      "ON STEP: 1300\n",
      "ACCURACY:\n",
      "0.9816\n",
      "\n",
      "\n",
      "ON STEP: 1400\n",
      "ACCURACY:\n",
      "0.9842\n",
      "\n",
      "\n",
      "ON STEP: 1500\n",
      "ACCURACY:\n",
      "0.9817\n",
      "\n",
      "\n",
      "ON STEP: 1600\n",
      "ACCURACY:\n",
      "0.9835\n",
      "\n",
      "\n",
      "ON STEP: 1700\n",
      "ACCURACY:\n",
      "0.9824\n",
      "\n",
      "\n",
      "ON STEP: 1800\n",
      "ACCURACY:\n",
      "0.9859\n",
      "\n",
      "\n",
      "ON STEP: 1900\n",
      "ACCURACY:\n",
      "0.9826\n",
      "\n",
      "\n",
      "ON STEP: 2000\n",
      "ACCURACY:\n",
      "0.9852\n",
      "\n",
      "\n",
      "ON STEP: 2100\n",
      "ACCURACY:\n",
      "0.9848\n",
      "\n",
      "\n",
      "ON STEP: 2200\n",
      "ACCURACY:\n",
      "0.9867\n",
      "\n",
      "\n",
      "ON STEP: 2300\n",
      "ACCURACY:\n",
      "0.9869\n",
      "\n",
      "\n",
      "ON STEP: 2400\n",
      "ACCURACY:\n",
      "0.9864\n",
      "\n",
      "\n",
      "ON STEP: 2500\n",
      "ACCURACY:\n",
      "0.9867\n",
      "\n",
      "\n",
      "ON STEP: 2600\n",
      "ACCURACY:\n",
      "0.9885\n",
      "\n",
      "\n",
      "ON STEP: 2700\n",
      "ACCURACY:\n",
      "0.9872\n",
      "\n",
      "\n",
      "ON STEP: 2800\n",
      "ACCURACY:\n",
      "0.9875\n",
      "\n",
      "\n",
      "ON STEP: 2900\n",
      "ACCURACY:\n",
      "0.9881\n",
      "\n",
      "\n",
      "ON STEP: 3000\n",
      "ACCURACY:\n",
      "0.9863\n",
      "\n",
      "\n",
      "ON STEP: 3100\n",
      "ACCURACY:\n",
      "0.988\n",
      "\n",
      "\n",
      "ON STEP: 3200\n",
      "ACCURACY:\n",
      "0.9865\n",
      "\n",
      "\n",
      "ON STEP: 3300\n",
      "ACCURACY:\n",
      "0.9875\n",
      "\n",
      "\n",
      "ON STEP: 3400\n",
      "ACCURACY:\n",
      "0.986\n",
      "\n",
      "\n",
      "ON STEP: 3500\n",
      "ACCURACY:\n",
      "0.9883\n",
      "\n",
      "\n",
      "ON STEP: 3600\n",
      "ACCURACY:\n",
      "0.9893\n",
      "\n",
      "\n",
      "ON STEP: 3700\n",
      "ACCURACY:\n",
      "0.987\n",
      "\n",
      "\n",
      "ON STEP: 3800\n",
      "ACCURACY:\n",
      "0.989\n",
      "\n",
      "\n",
      "ON STEP: 3900\n",
      "ACCURACY:\n",
      "0.9873\n",
      "\n",
      "\n",
      "ON STEP: 4000\n",
      "ACCURACY:\n",
      "0.9882\n",
      "\n",
      "\n",
      "ON STEP: 4100\n",
      "ACCURACY:\n",
      "0.9874\n",
      "\n",
      "\n",
      "ON STEP: 4200\n",
      "ACCURACY:\n",
      "0.9899\n",
      "\n",
      "\n",
      "ON STEP: 4300\n",
      "ACCURACY:\n",
      "0.9893\n",
      "\n",
      "\n",
      "ON STEP: 4400\n",
      "ACCURACY:\n",
      "0.989\n",
      "\n",
      "\n",
      "ON STEP: 4500\n",
      "ACCURACY:\n",
      "0.9871\n",
      "\n",
      "\n",
      "ON STEP: 4600\n",
      "ACCURACY:\n",
      "0.9875\n",
      "\n",
      "\n",
      "ON STEP: 4700\n",
      "ACCURACY:\n",
      "0.9869\n",
      "\n",
      "\n",
      "ON STEP: 4800\n",
      "ACCURACY:\n",
      "0.9897\n",
      "\n",
      "\n",
      "ON STEP: 4900\n",
      "ACCURACY:\n",
      "0.9888\n",
      "\n",
      "\n"
     ]
    }
   ],
   "source": [
    "with tf.Session() as sess:\n",
    "  # initialise the variables\n",
    "  sess.run(init)\n",
    "  for i in range(steps):\n",
    "    batch_x, batch_y = mnist.train.next_batch(50)\n",
    "    _, c = sess.run( [optimiser, cross_entropy],feed_dict={x: batch_x, y_true: batch_y, hold_prob: 0.5})\n",
    "     # PRINT OUT A MESSAGE EVERY 100 STEPS\n",
    "    if i%100 == 0:\n",
    "      print(\"ON STEP: {}\".format(i))\n",
    "      print('ACCURACY:')\n",
    "      matches = tf.equal(tf.argmax(y_pred,axis = 1), tf.argmax(y_true,axis= 1))\n",
    "      acc = tf.reduce_mean(tf.cast(matches,tf.float32))\n",
    "      test_accuracy = sess.run(acc,feed_dict= {x: mnist.test.images, \\\n",
    "                                               y_true: mnist.test.labels, \\\n",
    "                                               hold_prob: 1.0})\n",
    "      print(test_accuracy)\n",
    "      print('\\n')"
   ]
  },
  {
   "cell_type": "code",
   "execution_count": 34,
   "metadata": {
    "colab": {
     "base_uri": "https://localhost:8080/"
    },
    "id": "vSfACKIW5CeI",
    "outputId": "8e8bb3b3-9f4d-41f5-eaa4-0cc0cb38e8c2"
   },
   "outputs": [
    {
     "name": "stdout",
     "output_type": "stream",
     "text": [
      "0.9888\n"
     ]
    }
   ],
   "source": [
    "print(test_accuracy)\n"
   ]
  }
 ],
 "metadata": {
  "colab": {
   "name": "Assignment 4_Part 1.ipynb",
   "provenance": []
  },
  "kernelspec": {
   "display_name": "Python 3",
   "language": "python",
   "name": "python3"
  },
  "language_info": {
   "codemirror_mode": {
    "name": "ipython",
    "version": 3
   },
   "file_extension": ".py",
   "mimetype": "text/x-python",
   "name": "python",
   "nbconvert_exporter": "python",
   "pygments_lexer": "ipython3",
   "version": "3.7.10"
  }
 },
 "nbformat": 4,
 "nbformat_minor": 1
}
